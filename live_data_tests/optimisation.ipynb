{
 "cells": [
  {
   "cell_type": "code",
   "execution_count": 1,
   "metadata": {},
   "outputs": [
    {
     "name": "stdout",
     "output_type": "stream",
     "text": [
      "1\n",
      "393.19002625498075\n",
      "101325.0\n",
      "1.0000000000000002\n",
      "1\n"
     ]
    }
   ],
   "source": [
    "import pyomo.environ as pyo\n",
    "from idaes.core import FlowsheetBlock\n",
    "from idaes.models.unit_models import Heater\n",
    "from idaes.models.properties.general_helmholtz import (\n",
    "    HelmholtzParameterBlock,\n",
    "    PhaseType,\n",
    "    StateVars,\n",
    ")\n",
    "from idaes.core.util.model_statistics import degrees_of_freedom\n",
    "\n",
    "m = pyo.ConcreteModel()\n",
    "m.fs = FlowsheetBlock(dynamic=False)\n",
    "m.fs.properties = HelmholtzParameterBlock(\n",
    "    pure_component=\"h2o\",\n",
    "    phase_presentation=PhaseType.MIX,\n",
    "    state_vars=StateVars.TPX,\n",
    ")\n",
    "m.fs.heater = Heater(property_package=m.fs.properties)\n",
    "\n",
    "m.fs.heater.inlet.flow_mol[0].fix(100)\n",
    "m.fs.heater.inlet.temperature[0].fix(380)\n",
    "m.fs.heater.inlet.vapor_frac[0].fix(1)\n",
    "m.fs.heater.inlet.pressure[0].fix(101325)\n",
    "#m.fs.heater.heat_duty[0].fix(100_000)\n",
    "\n",
    "#@m.fs.heater.Objective()\n",
    "\n",
    "def cost_objective(h):\n",
    "    return 3**(h.heat_duty[0]/5000)  - (h.outlet.temperature[0]-350) * 33000\n",
    "m.fs.heater.cost_objective = pyo.Objective(rule=cost_objective, sense=pyo.minimize)\n",
    "\n",
    "solver = pyo.SolverFactory(\"ipopt\")\n",
    "solver.solve(m)\n",
    "\n",
    "print(degrees_of_freedom(m))\n",
    "\n",
    "print(m.fs.heater.outlet.temperature[0].value)\n",
    "print(m.fs.heater.outlet.pressure[0].value)\n",
    "print(m.fs.heater.outlet.vapor_frac[0].value)\n",
    "print(m.fs.heater.inlet.vapor_frac[0].value)"
   ]
  }
 ],
 "metadata": {
  "kernelspec": {
   "display_name": "backend",
   "language": "python",
   "name": "python3"
  },
  "language_info": {
   "codemirror_mode": {
    "name": "ipython",
    "version": 3
   },
   "file_extension": ".py",
   "mimetype": "text/x-python",
   "name": "python",
   "nbconvert_exporter": "python",
   "pygments_lexer": "ipython3",
   "version": "3.11.9"
  }
 },
 "nbformat": 4,
 "nbformat_minor": 2
}
