{
 "cells": [
  {
   "cell_type": "code",
   "execution_count": 1,
   "metadata": {},
   "outputs": [
    {
     "name": "stdout",
     "output_type": "stream",
     "text": [
      "2024-09-21 14:27:06 [INFO] idaes.core.surrogate.pysmo_surrogate: Decode surrogate. type=rbf\n",
      "Warning: solution.pickle already exists; results will be saved to \" solution_v_09-21-24_142706.pickle \".\n",
      "\n",
      "Default parameter estimation method is used.\n",
      "\n",
      "Parameter estimation method:  algebraic\n",
      "Basis function:  gaussian\n",
      "Regularization done:  True\n",
      "Warning: solution.pickle already exists; results will be saved to \" solution_v_09-21-24_142706.pickle \".\n",
      "\n",
      "Default parameter estimation method is used.\n",
      "\n",
      "Parameter estimation method:  algebraic\n",
      "Basis function:  gaussian\n",
      "Regularization done:  True\n",
      "Warning: solution.pickle already exists; results will be saved to \" solution_v_09-21-24_142706.pickle \".\n",
      "\n",
      "Default parameter estimation method is used.\n",
      "\n",
      "Parameter estimation method:  algebraic\n",
      "Basis function:  gaussian\n",
      "Regularization done:  True\n",
      "WARNING: Loading a SolverResults object with a warning status into\n",
      "model.name=\"unknown\";\n",
      "    - termination condition: other\n",
      "    - message from solver: Too few degrees of freedom (rethrown)!\n",
      "-1\n",
      "460.12800000000004\n",
      "11032305.827500999\n",
      "0.0\n",
      "1\n"
     ]
    }
   ],
   "source": [
    "import pyomo.environ as pyo\n",
    "from idaes.core import FlowsheetBlock\n",
    "from idaes.models.unit_models import Heater\n",
    "from idaes.models.properties.general_helmholtz import (\n",
    "    HelmholtzParameterBlock,\n",
    "    PhaseType,\n",
    "    StateVars,\n",
    ")\n",
    "from idaes.core.util.model_statistics import degrees_of_freedom\n",
    "from surrogate_heater import SurrogateHeater\n",
    "\n",
    "m = pyo.ConcreteModel()\n",
    "m.fs = FlowsheetBlock(dynamic=False)\n",
    "m.fs.properties = HelmholtzParameterBlock(\n",
    "    pure_component=\"h2o\",\n",
    "    phase_presentation=PhaseType.MIX,\n",
    "    state_vars=StateVars.TPX,\n",
    ")\n",
    "m.fs.heater = SurrogateHeater(property_package=m.fs.properties)\n",
    "\n",
    "m.fs.heater.inlet.flow_mol[0].fix(100)\n",
    "m.fs.heater.inlet.temperature[0].fix(500)\n",
    "m.fs.heater.inlet.vapor_frac[0].fix(1)\n",
    "m.fs.heater.inlet.pressure[0].fix(101325)\n",
    "m.fs.heater.heat_duty.fix(100_000)\n",
    "\n",
    "solver = pyo.SolverFactory(\"ipopt\")\n",
    "solver.solve(m)\n",
    "\n",
    "print(degrees_of_freedom(m))\n",
    "\n",
    "print(m.fs.heater.outlet.temperature[0].value)\n",
    "print(m.fs.heater.outlet.pressure[0].value)\n",
    "print(m.fs.heater.outlet.vapor_frac[0].value)\n",
    "print(m.fs.heater.inlet.vapor_frac[0].value)"
   ]
  }
 ],
 "metadata": {
  "kernelspec": {
   "display_name": "backend",
   "language": "python",
   "name": "python3"
  },
  "language_info": {
   "codemirror_mode": {
    "name": "ipython",
    "version": 3
   },
   "file_extension": ".py",
   "mimetype": "text/x-python",
   "name": "python",
   "nbconvert_exporter": "python",
   "pygments_lexer": "ipython3",
   "version": "3.11.9"
  }
 },
 "nbformat": 4,
 "nbformat_minor": 2
}
