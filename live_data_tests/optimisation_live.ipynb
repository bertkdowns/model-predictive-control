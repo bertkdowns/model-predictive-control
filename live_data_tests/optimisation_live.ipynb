{
 "cells": [
  {
   "cell_type": "code",
   "execution_count": 3,
   "metadata": {},
   "outputs": [
    {
     "ename": "ValueError",
     "evalue": "Cannot load a SolverResults object with bad status: error",
     "output_type": "error",
     "traceback": [
      "\u001b[0;31m---------------------------------------------------------------------------\u001b[0m",
      "\u001b[0;31mValueError\u001b[0m                                Traceback (most recent call last)",
      "Cell \u001b[0;32mIn[3], line 39\u001b[0m\n\u001b[1;32m     37\u001b[0m \u001b[38;5;66;03m#m.fs.heater.heat_duty[0].fix(power[i])\u001b[39;00m\n\u001b[1;32m     38\u001b[0m solver \u001b[38;5;241m=\u001b[39m pyo\u001b[38;5;241m.\u001b[39mSolverFactory(\u001b[38;5;124m\"\u001b[39m\u001b[38;5;124mipopt\u001b[39m\u001b[38;5;124m\"\u001b[39m)\n\u001b[0;32m---> 39\u001b[0m \u001b[43msolver\u001b[49m\u001b[38;5;241;43m.\u001b[39;49m\u001b[43msolve\u001b[49m\u001b[43m(\u001b[49m\u001b[43mm\u001b[49m\u001b[43m)\u001b[49m\n\u001b[1;32m     42\u001b[0m outlet_temperatures\u001b[38;5;241m.\u001b[39mappend(m\u001b[38;5;241m.\u001b[39mfs\u001b[38;5;241m.\u001b[39mheater\u001b[38;5;241m.\u001b[39moutlet\u001b[38;5;241m.\u001b[39mtemperature[\u001b[38;5;241m0\u001b[39m]\u001b[38;5;241m.\u001b[39mvalue)\n\u001b[1;32m     43\u001b[0m outlet_powers\u001b[38;5;241m.\u001b[39mappend(m\u001b[38;5;241m.\u001b[39mfs\u001b[38;5;241m.\u001b[39mheater\u001b[38;5;241m.\u001b[39mheat_duty[\u001b[38;5;241m0\u001b[39m]\u001b[38;5;241m.\u001b[39mvalue)\n",
      "File \u001b[0;32m~/miniconda3/envs/backend/lib/python3.11/site-packages/pyomo/opt/base/solvers.py:662\u001b[0m, in \u001b[0;36mOptSolver.solve\u001b[0;34m(self, *args, **kwds)\u001b[0m\n\u001b[1;32m    660\u001b[0m \u001b[38;5;28;01melse\u001b[39;00m:\n\u001b[1;32m    661\u001b[0m     \u001b[38;5;28;01mif\u001b[39;00m \u001b[38;5;28mself\u001b[39m\u001b[38;5;241m.\u001b[39m_load_solutions:\n\u001b[0;32m--> 662\u001b[0m         \u001b[43m_model\u001b[49m\u001b[38;5;241;43m.\u001b[39;49m\u001b[43msolutions\u001b[49m\u001b[38;5;241;43m.\u001b[39;49m\u001b[43mload_from\u001b[49m\u001b[43m(\u001b[49m\n\u001b[1;32m    663\u001b[0m \u001b[43m            \u001b[49m\u001b[43mresult\u001b[49m\u001b[43m,\u001b[49m\n\u001b[1;32m    664\u001b[0m \u001b[43m            \u001b[49m\u001b[43mselect\u001b[49m\u001b[38;5;241;43m=\u001b[39;49m\u001b[38;5;28;43mself\u001b[39;49m\u001b[38;5;241;43m.\u001b[39;49m\u001b[43m_select_index\u001b[49m\u001b[43m,\u001b[49m\n\u001b[1;32m    665\u001b[0m \u001b[43m            \u001b[49m\u001b[43mdefault_variable_value\u001b[49m\u001b[38;5;241;43m=\u001b[39;49m\u001b[38;5;28;43mself\u001b[39;49m\u001b[38;5;241;43m.\u001b[39;49m\u001b[43m_default_variable_value\u001b[49m\u001b[43m,\u001b[49m\n\u001b[1;32m    666\u001b[0m \u001b[43m        \u001b[49m\u001b[43m)\u001b[49m\n\u001b[1;32m    667\u001b[0m         result\u001b[38;5;241m.\u001b[39m_smap_id \u001b[38;5;241m=\u001b[39m \u001b[38;5;28;01mNone\u001b[39;00m\n\u001b[1;32m    668\u001b[0m         result\u001b[38;5;241m.\u001b[39msolution\u001b[38;5;241m.\u001b[39mclear()\n",
      "File \u001b[0;32m~/miniconda3/envs/backend/lib/python3.11/site-packages/pyomo/core/base/PyomoModel.py:228\u001b[0m, in \u001b[0;36mModelSolutions.load_from\u001b[0;34m(self, results, allow_consistent_values_for_fixed_vars, comparison_tolerance_for_fixed_vars, ignore_invalid_labels, id, delete_symbol_map, clear, default_variable_value, select, ignore_fixed_vars)\u001b[0m\n\u001b[1;32m    223\u001b[0m         logger\u001b[38;5;241m.\u001b[39mwarning(\n\u001b[1;32m    224\u001b[0m             \u001b[38;5;124m\"\u001b[39m\u001b[38;5;124mLoading a SolverResults object with \u001b[39m\u001b[38;5;124m\"\u001b[39m\n\u001b[1;32m    225\u001b[0m             \u001b[38;5;124m\"\u001b[39m\u001b[38;5;124man \u001b[39m\u001b[38;5;124m'\u001b[39m\u001b[38;5;124maborted\u001b[39m\u001b[38;5;124m'\u001b[39m\u001b[38;5;124m status, but containing a solution\u001b[39m\u001b[38;5;124m\"\u001b[39m\n\u001b[1;32m    226\u001b[0m         )\n\u001b[1;32m    227\u001b[0m     \u001b[38;5;28;01melse\u001b[39;00m:\n\u001b[0;32m--> 228\u001b[0m         \u001b[38;5;28;01mraise\u001b[39;00m \u001b[38;5;167;01mValueError\u001b[39;00m(\n\u001b[1;32m    229\u001b[0m             \u001b[38;5;124m\"\u001b[39m\u001b[38;5;124mCannot load a SolverResults object \u001b[39m\u001b[38;5;124m\"\u001b[39m\n\u001b[1;32m    230\u001b[0m             \u001b[38;5;124m\"\u001b[39m\u001b[38;5;124mwith bad status: \u001b[39m\u001b[38;5;132;01m%s\u001b[39;00m\u001b[38;5;124m\"\u001b[39m \u001b[38;5;241m%\u001b[39m \u001b[38;5;28mstr\u001b[39m(results\u001b[38;5;241m.\u001b[39msolver\u001b[38;5;241m.\u001b[39mstatus)\n\u001b[1;32m    231\u001b[0m         )\n\u001b[1;32m    232\u001b[0m \u001b[38;5;28;01mif\u001b[39;00m clear:\n\u001b[1;32m    233\u001b[0m     \u001b[38;5;66;03m#\u001b[39;00m\n\u001b[1;32m    234\u001b[0m     \u001b[38;5;66;03m# Clear the solutions, but not the symbol map\u001b[39;00m\n\u001b[1;32m    235\u001b[0m     \u001b[38;5;66;03m#\u001b[39;00m\n\u001b[1;32m    236\u001b[0m     \u001b[38;5;28mself\u001b[39m\u001b[38;5;241m.\u001b[39mclear(clear_symbol_maps\u001b[38;5;241m=\u001b[39m\u001b[38;5;28;01mFalse\u001b[39;00m)\n",
      "\u001b[0;31mValueError\u001b[0m: Cannot load a SolverResults object with bad status: error"
     ]
    }
   ],
   "source": [
    "import pyomo.environ as pyo\n",
    "from idaes.core import FlowsheetBlock\n",
    "from idaes.models.unit_models import Heater\n",
    "from idaes.models.properties.general_helmholtz import (\n",
    "    HelmholtzParameterBlock,\n",
    "    PhaseType,\n",
    "    StateVars,\n",
    ")\n",
    "from idaes.core.util.model_statistics import degrees_of_freedom\n",
    "from data import temperature, pressure, power, indexes\n",
    "\n",
    "m = pyo.ConcreteModel()\n",
    "m.fs = FlowsheetBlock(dynamic=False,)\n",
    "m.fs.properties = HelmholtzParameterBlock(\n",
    "    pure_component=\"h2o\",\n",
    "    phase_presentation=PhaseType.MIX,\n",
    "    state_vars=StateVars.TPX,\n",
    ")\n",
    "m.fs.heater = Heater(property_package=m.fs.properties)\n",
    "\n",
    "\n",
    "outlet_temperatures = []\n",
    "outlet_powers = []\n",
    "\n",
    "\n",
    "def cost_objective(h):\n",
    "    return 3**(h.heat_duty[0]/2000)  - (h.outlet.temperature[0]-250) * 35000\n",
    "m.fs.heater.cost_objective = pyo.Objective(rule=cost_objective, sense=pyo.minimize)\n",
    "\n",
    "temperature = [temperature[i] + i*10 for i in indexes]\n",
    "\n",
    "for i in indexes:\n",
    "    m.fs.heater.inlet.flow_mol[0].fix(100)\n",
    "    m.fs.heater.inlet.temperature[0].fix(temperature[i])\n",
    "    m.fs.heater.inlet.vapor_frac[0].fix(1)\n",
    "    m.fs.heater.inlet.pressure[0].fix(pressure[i])\n",
    "    #m.fs.heater.heat_duty[0].fix(power[i])\n",
    "    solver = pyo.SolverFactory(\"ipopt\")\n",
    "    solver.solve(m)\n",
    "    \n",
    "    \n",
    "    outlet_temperatures.append(m.fs.heater.outlet.temperature[0].value)\n",
    "    outlet_powers.append(m.fs.heater.heat_duty[0].value)\n",
    "\n",
    "import matplotlib.pyplot as plt\n",
    "\n",
    "plt.plot(outlet_temperatures, label=\"outlet_temp\")\n",
    "plt.plot(temperature, label=\"inlet temperature\")\n",
    "plt.legend()\n"
   ]
  }
 ],
 "metadata": {
  "kernelspec": {
   "display_name": "backend",
   "language": "python",
   "name": "python3"
  },
  "language_info": {
   "codemirror_mode": {
    "name": "ipython",
    "version": 3
   },
   "file_extension": ".py",
   "mimetype": "text/x-python",
   "name": "python",
   "nbconvert_exporter": "python",
   "pygments_lexer": "ipython3",
   "version": "3.11.9"
  }
 },
 "nbformat": 4,
 "nbformat_minor": 2
}
