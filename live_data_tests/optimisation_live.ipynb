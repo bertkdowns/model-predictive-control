{
 "cells": [
  {
   "cell_type": "code",
   "execution_count": 16,
   "metadata": {},
   "outputs": [
    {
     "name": "stdout",
     "output_type": "stream",
     "text": [
      "ERROR: Rule failed when generating expression for Objective\n",
      "fs.heater.cost_objective with index None: TypeError: unsupported operand\n",
      "type(s) for ^: '_GeneralVarData' and 'SumExpression'\n",
      "ERROR: Constructing component 'fs.heater.cost_objective' from data=None\n",
      "failed:\n",
      "        TypeError: unsupported operand type(s) for ^: '_GeneralVarData' and\n",
      "        'SumExpression'\n"
     ]
    },
    {
     "ename": "TypeError",
     "evalue": "unsupported operand type(s) for ^: '_GeneralVarData' and 'SumExpression'",
     "output_type": "error",
     "traceback": [
      "\u001b[0;31m---------------------------------------------------------------------------\u001b[0m",
      "\u001b[0;31mTypeError\u001b[0m                                 Traceback (most recent call last)",
      "Cell \u001b[0;32mIn[16], line 28\u001b[0m\n\u001b[1;32m     26\u001b[0m \u001b[38;5;28;01mdef\u001b[39;00m \u001b[38;5;21mcost_objective\u001b[39m(h):\n\u001b[1;32m     27\u001b[0m     \u001b[38;5;28;01mreturn\u001b[39;00m h\u001b[38;5;241m.\u001b[39mheat_duty[\u001b[38;5;241m0\u001b[39m]\u001b[38;5;241m^\u001b[39m\u001b[38;5;241m2\u001b[39m \u001b[38;5;241m*\u001b[39m \u001b[38;5;241m1\u001b[39m \u001b[38;5;241m-\u001b[39m (h\u001b[38;5;241m.\u001b[39moutlet\u001b[38;5;241m.\u001b[39mtemperature[\u001b[38;5;241m0\u001b[39m]\u001b[38;5;241m-\u001b[39m\u001b[38;5;241m250\u001b[39m) \u001b[38;5;241m*\u001b[39m \u001b[38;5;241m3800\u001b[39m\n\u001b[0;32m---> 28\u001b[0m \u001b[43mm\u001b[49m\u001b[38;5;241;43m.\u001b[39;49m\u001b[43mfs\u001b[49m\u001b[38;5;241;43m.\u001b[39;49m\u001b[43mheater\u001b[49m\u001b[38;5;241;43m.\u001b[39;49m\u001b[43mcost_objective\u001b[49m \u001b[38;5;241m=\u001b[39m pyo\u001b[38;5;241m.\u001b[39mObjective(rule\u001b[38;5;241m=\u001b[39mcost_objective, sense\u001b[38;5;241m=\u001b[39mpyo\u001b[38;5;241m.\u001b[39mminimize)\n\u001b[1;32m     30\u001b[0m temperature \u001b[38;5;241m=\u001b[39m [temperature[i] \u001b[38;5;241m+\u001b[39m i\u001b[38;5;241m*\u001b[39m\u001b[38;5;241m10\u001b[39m \u001b[38;5;28;01mfor\u001b[39;00m i \u001b[38;5;129;01min\u001b[39;00m indexes]\n\u001b[1;32m     32\u001b[0m \u001b[38;5;28;01mfor\u001b[39;00m i \u001b[38;5;129;01min\u001b[39;00m indexes:\n",
      "File \u001b[0;32m~/miniconda3/envs/backend/lib/python3.11/site-packages/pyomo/core/base/block.py:568\u001b[0m, in \u001b[0;36m_BlockData.__setattr__\u001b[0;34m(self, name, val)\u001b[0m\n\u001b[1;32m    563\u001b[0m \u001b[38;5;28;01mif\u001b[39;00m name \u001b[38;5;129;01mnot\u001b[39;00m \u001b[38;5;129;01min\u001b[39;00m \u001b[38;5;28mself\u001b[39m\u001b[38;5;241m.\u001b[39m\u001b[38;5;18m__dict__\u001b[39m:\n\u001b[1;32m    564\u001b[0m     \u001b[38;5;28;01mif\u001b[39;00m \u001b[38;5;28misinstance\u001b[39m(val, Component):\n\u001b[1;32m    565\u001b[0m         \u001b[38;5;66;03m#\u001b[39;00m\n\u001b[1;32m    566\u001b[0m         \u001b[38;5;66;03m# Pyomo components are added with the add_component method.\u001b[39;00m\n\u001b[1;32m    567\u001b[0m         \u001b[38;5;66;03m#\u001b[39;00m\n\u001b[0;32m--> 568\u001b[0m         \u001b[38;5;28;43mself\u001b[39;49m\u001b[38;5;241;43m.\u001b[39;49m\u001b[43madd_component\u001b[49m\u001b[43m(\u001b[49m\u001b[43mname\u001b[49m\u001b[43m,\u001b[49m\u001b[43m \u001b[49m\u001b[43mval\u001b[49m\u001b[43m)\u001b[49m\n\u001b[1;32m    569\u001b[0m     \u001b[38;5;28;01melse\u001b[39;00m:\n\u001b[1;32m    570\u001b[0m         \u001b[38;5;66;03m#\u001b[39;00m\n\u001b[1;32m    571\u001b[0m         \u001b[38;5;66;03m# Other Python objects are added with the standard __setattr__\u001b[39;00m\n\u001b[1;32m    572\u001b[0m         \u001b[38;5;66;03m# method.\u001b[39;00m\n\u001b[1;32m    573\u001b[0m         \u001b[38;5;66;03m#\u001b[39;00m\n\u001b[1;32m    574\u001b[0m         \u001b[38;5;28msuper\u001b[39m(_BlockData, \u001b[38;5;28mself\u001b[39m)\u001b[38;5;241m.\u001b[39m\u001b[38;5;21m__setattr__\u001b[39m(name, val)\n",
      "File \u001b[0;32m~/miniconda3/envs/backend/lib/python3.11/site-packages/pyomo/core/base/block.py:1126\u001b[0m, in \u001b[0;36m_BlockData.add_component\u001b[0;34m(self, name, val)\u001b[0m\n\u001b[1;32m   1118\u001b[0m     logger\u001b[38;5;241m.\u001b[39mdebug(\n\u001b[1;32m   1119\u001b[0m         \u001b[38;5;124m\"\u001b[39m\u001b[38;5;124mConstructing \u001b[39m\u001b[38;5;132;01m%s\u001b[39;00m\u001b[38;5;124m \u001b[39m\u001b[38;5;124m'\u001b[39m\u001b[38;5;132;01m%s\u001b[39;00m\u001b[38;5;124m'\u001b[39m\u001b[38;5;124m on \u001b[39m\u001b[38;5;132;01m%s\u001b[39;00m\u001b[38;5;124m from data=\u001b[39m\u001b[38;5;132;01m%s\u001b[39;00m\u001b[38;5;124m\"\u001b[39m,\n\u001b[1;32m   1120\u001b[0m         val\u001b[38;5;241m.\u001b[39m\u001b[38;5;18m__class__\u001b[39m\u001b[38;5;241m.\u001b[39m\u001b[38;5;18m__name__\u001b[39m,\n\u001b[0;32m   (...)\u001b[0m\n\u001b[1;32m   1123\u001b[0m         \u001b[38;5;28mstr\u001b[39m(data),\n\u001b[1;32m   1124\u001b[0m     )\n\u001b[1;32m   1125\u001b[0m \u001b[38;5;28;01mtry\u001b[39;00m:\n\u001b[0;32m-> 1126\u001b[0m     \u001b[43mval\u001b[49m\u001b[38;5;241;43m.\u001b[39;49m\u001b[43mconstruct\u001b[49m\u001b[43m(\u001b[49m\u001b[43mdata\u001b[49m\u001b[43m)\u001b[49m\n\u001b[1;32m   1127\u001b[0m \u001b[38;5;28;01mexcept\u001b[39;00m:\n\u001b[1;32m   1128\u001b[0m     err \u001b[38;5;241m=\u001b[39m sys\u001b[38;5;241m.\u001b[39mexc_info()[\u001b[38;5;241m1\u001b[39m]\n",
      "File \u001b[0;32m~/miniconda3/envs/backend/lib/python3.11/site-packages/pyomo/core/base/objective.py:318\u001b[0m, in \u001b[0;36mObjective.construct\u001b[0;34m(self, data)\u001b[0m\n\u001b[1;32m    315\u001b[0m \u001b[38;5;28;01melse\u001b[39;00m:\n\u001b[1;32m    316\u001b[0m     \u001b[38;5;66;03m# Bypass the index validation and create the member directly\u001b[39;00m\n\u001b[1;32m    317\u001b[0m     \u001b[38;5;28;01mfor\u001b[39;00m index \u001b[38;5;129;01min\u001b[39;00m \u001b[38;5;28mself\u001b[39m\u001b[38;5;241m.\u001b[39mindex_set():\n\u001b[0;32m--> 318\u001b[0m         ans \u001b[38;5;241m=\u001b[39m \u001b[38;5;28mself\u001b[39m\u001b[38;5;241m.\u001b[39m_setitem_when_not_present(index, \u001b[43mrule\u001b[49m\u001b[43m(\u001b[49m\u001b[43mblock\u001b[49m\u001b[43m,\u001b[49m\u001b[43m \u001b[49m\u001b[43mindex\u001b[49m\u001b[43m)\u001b[49m)\n\u001b[1;32m    319\u001b[0m         \u001b[38;5;28;01mif\u001b[39;00m ans \u001b[38;5;129;01mis\u001b[39;00m \u001b[38;5;129;01mnot\u001b[39;00m \u001b[38;5;28;01mNone\u001b[39;00m:\n\u001b[1;32m    320\u001b[0m             ans\u001b[38;5;241m.\u001b[39mset_sense(\u001b[38;5;28mself\u001b[39m\u001b[38;5;241m.\u001b[39m_init_sense(block, index))\n",
      "File \u001b[0;32m~/miniconda3/envs/backend/lib/python3.11/site-packages/pyomo/core/base/initializer.py:438\u001b[0m, in \u001b[0;36mScalarCallInitializer.__call__\u001b[0;34m(self, parent, idx)\u001b[0m\n\u001b[1;32m    437\u001b[0m \u001b[38;5;28;01mdef\u001b[39;00m \u001b[38;5;21m__call__\u001b[39m(\u001b[38;5;28mself\u001b[39m, parent, idx):\n\u001b[0;32m--> 438\u001b[0m     \u001b[38;5;28;01mreturn\u001b[39;00m \u001b[38;5;28;43mself\u001b[39;49m\u001b[38;5;241;43m.\u001b[39;49m\u001b[43m_fcn\u001b[49m\u001b[43m(\u001b[49m\u001b[43mparent\u001b[49m\u001b[43m)\u001b[49m\n",
      "Cell \u001b[0;32mIn[16], line 27\u001b[0m, in \u001b[0;36mcost_objective\u001b[0;34m(h)\u001b[0m\n\u001b[1;32m     26\u001b[0m \u001b[38;5;28;01mdef\u001b[39;00m \u001b[38;5;21mcost_objective\u001b[39m(h):\n\u001b[0;32m---> 27\u001b[0m     \u001b[38;5;28;01mreturn\u001b[39;00m \u001b[43mh\u001b[49m\u001b[38;5;241;43m.\u001b[39;49m\u001b[43mheat_duty\u001b[49m\u001b[43m[\u001b[49m\u001b[38;5;241;43m0\u001b[39;49m\u001b[43m]\u001b[49m\u001b[38;5;241;43m^\u001b[39;49m\u001b[38;5;241;43m2\u001b[39;49m\u001b[43m \u001b[49m\u001b[38;5;241;43m*\u001b[39;49m\u001b[43m \u001b[49m\u001b[38;5;241;43m1\u001b[39;49m\u001b[43m \u001b[49m\u001b[38;5;241;43m-\u001b[39;49m\u001b[43m \u001b[49m\u001b[43m(\u001b[49m\u001b[43mh\u001b[49m\u001b[38;5;241;43m.\u001b[39;49m\u001b[43moutlet\u001b[49m\u001b[38;5;241;43m.\u001b[39;49m\u001b[43mtemperature\u001b[49m\u001b[43m[\u001b[49m\u001b[38;5;241;43m0\u001b[39;49m\u001b[43m]\u001b[49m\u001b[38;5;241;43m-\u001b[39;49m\u001b[38;5;241;43m250\u001b[39;49m\u001b[43m)\u001b[49m\u001b[43m \u001b[49m\u001b[38;5;241;43m*\u001b[39;49m\u001b[43m \u001b[49m\u001b[38;5;241;43m3800\u001b[39;49m\n",
      "\u001b[0;31mTypeError\u001b[0m: unsupported operand type(s) for ^: '_GeneralVarData' and 'SumExpression'"
     ]
    }
   ],
   "source": [
    "import pyomo.environ as pyo\n",
    "from idaes.core import FlowsheetBlock\n",
    "from idaes.models.unit_models import Heater\n",
    "from idaes.models.properties.general_helmholtz import (\n",
    "    HelmholtzParameterBlock,\n",
    "    PhaseType,\n",
    "    StateVars,\n",
    ")\n",
    "from idaes.core.util.model_statistics import degrees_of_freedom\n",
    "from data import temperature, pressure, power, indexes\n",
    "\n",
    "m = pyo.ConcreteModel()\n",
    "m.fs = FlowsheetBlock(dynamic=False,)\n",
    "m.fs.properties = HelmholtzParameterBlock(\n",
    "    pure_component=\"h2o\",\n",
    "    phase_presentation=PhaseType.MIX,\n",
    "    state_vars=StateVars.TPX,\n",
    ")\n",
    "m.fs.heater = Heater(property_package=m.fs.properties)\n",
    "\n",
    "\n",
    "outlet_temperatures = []\n",
    "outlet_powers = []\n",
    "\n",
    "\n",
    "def cost_objective(h):\n",
    "    return h.heat_duty[0] * 1 - (h.outlet.temperature[0]-250) * 3800\n",
    "m.fs.heater.cost_objective = pyo.Objective(rule=cost_objective, sense=pyo.minimize)\n",
    "\n",
    "temperature = [temperature[i] + i*10 for i in indexes]\n",
    "\n",
    "for i in indexes:\n",
    "    m.fs.heater.inlet.flow_mol[0].fix(100)\n",
    "    m.fs.heater.inlet.temperature[0].fix(temperature[i])\n",
    "    m.fs.heater.inlet.vapor_frac[0].fix(1)\n",
    "    m.fs.heater.inlet.pressure[0].fix(pressure[i])\n",
    "    #m.fs.heater.heat_duty[0].fix(power[i])\n",
    "    solver = pyo.SolverFactory(\"ipopt\")\n",
    "    solver.solve(m)\n",
    "    \n",
    "    \n",
    "    outlet_temperatures.append(m.fs.heater.outlet.temperature[0].value)\n",
    "    outlet_powers.append(m.fs.heater.heat_duty[0].value)\n",
    "\n",
    "import matplotlib.pyplot as plt\n",
    "\n",
    "plt.plot(outlet_temperatures, label=\"outlet_temp\")\n",
    "plt.plot(temperature, label=\"inlet temperature\")\n",
    "plt.legend()\n"
   ]
  }
 ],
 "metadata": {
  "kernelspec": {
   "display_name": "backend",
   "language": "python",
   "name": "python3"
  },
  "language_info": {
   "codemirror_mode": {
    "name": "ipython",
    "version": 3
   },
   "file_extension": ".py",
   "mimetype": "text/x-python",
   "name": "python",
   "nbconvert_exporter": "python",
   "pygments_lexer": "ipython3",
   "version": "3.11.9"
  }
 },
 "nbformat": 4,
 "nbformat_minor": 2
}
